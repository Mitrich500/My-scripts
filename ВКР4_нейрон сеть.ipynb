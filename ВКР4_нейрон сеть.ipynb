{
 "cells": [
  {
   "cell_type": "code",
   "execution_count": 34,
   "metadata": {
    "executionInfo": {
     "elapsed": 268,
     "status": "ok",
     "timestamp": 1664973240849,
     "user": {
      "displayName": "Дмитрий К.",
      "userId": "00574909770528582988"
     },
     "user_tz": -180
    },
    "id": "ztnbMZXl6Ajh"
   },
   "outputs": [],
   "source": [
    "import numpy as np\n",
    "import pandas as pd\n",
    "import matplotlib.pyplot as plt\n",
    "import tensorflow as tf\n",
    "import seaborn as sns\n",
    "import plotly.express as px\n",
    "import tensorflow as tf\n",
    "import sklearn\n",
    "from tensorflow import keras as keras\n",
    "from tensorflow.keras import layers\n",
    "from tensorflow.keras.layers import Dense, Flatten, Dropout, BatchNormalization, Activation\n",
    "from pandas import read_excel, DataFrame, Series\n",
    "from keras.wrappers.scikit_learn import KerasClassifier, KerasRegressor\n",
    "from tensorflow.keras.models import Sequential\n",
    "from numpy.random import seed\n",
    "from scipy import stats\n",
    "import warnings\n",
    "warnings.filterwarnings(\"ignore\")"
   ]
  },
  {
   "cell_type": "code",
   "execution_count": 35,
   "metadata": {
    "colab": {
     "base_uri": "https://localhost:8080/",
     "height": 496
    },
    "executionInfo": {
     "elapsed": 351,
     "status": "ok",
     "timestamp": 1664973241469,
     "user": {
      "displayName": "Дмитрий К.",
      "userId": "00574909770528582988"
     },
     "user_tz": -180
    },
    "id": "KzUcCpYf6UFt",
    "outputId": "27152d81-1fd0-4335-acdf-63ea90aea033"
   },
   "outputs": [
    {
     "data": {
      "text/html": [
       "<div>\n",
       "<style scoped>\n",
       "    .dataframe tbody tr th:only-of-type {\n",
       "        vertical-align: middle;\n",
       "    }\n",
       "\n",
       "    .dataframe tbody tr th {\n",
       "        vertical-align: top;\n",
       "    }\n",
       "\n",
       "    .dataframe thead th {\n",
       "        text-align: right;\n",
       "    }\n",
       "</style>\n",
       "<table border=\"1\" class=\"dataframe\">\n",
       "  <thead>\n",
       "    <tr style=\"text-align: right;\">\n",
       "      <th></th>\n",
       "      <th>Соотношение матрица-наполнитель</th>\n",
       "      <th>Плотность, кг/м3</th>\n",
       "      <th>модуль упругости, ГПа</th>\n",
       "      <th>Количество отвердителя, м.%</th>\n",
       "      <th>Содержание эпоксидных групп,%_2</th>\n",
       "      <th>Температура вспышки, С_2</th>\n",
       "      <th>Поверхностная плотность, г/м2</th>\n",
       "      <th>Модуль упругости при растяжении, ГПа</th>\n",
       "      <th>Прочность при растяжении, МПа</th>\n",
       "      <th>Потребление смолы, г/м2</th>\n",
       "      <th>Угол нашивки, град</th>\n",
       "      <th>Шаг нашивки</th>\n",
       "      <th>Плотность нашивки</th>\n",
       "    </tr>\n",
       "  </thead>\n",
       "  <tbody>\n",
       "    <tr>\n",
       "      <th>0</th>\n",
       "      <td>0.248345</td>\n",
       "      <td>0.636932</td>\n",
       "      <td>0.476923</td>\n",
       "      <td>0.068893</td>\n",
       "      <td>0.638238</td>\n",
       "      <td>0.491617</td>\n",
       "      <td>0.177196</td>\n",
       "      <td>0.286882</td>\n",
       "      <td>0.724369</td>\n",
       "      <td>0.514688</td>\n",
       "      <td>0</td>\n",
       "      <td>0.270480</td>\n",
       "      <td>0.562467</td>\n",
       "    </tr>\n",
       "    <tr>\n",
       "      <th>1</th>\n",
       "      <td>0.248345</td>\n",
       "      <td>0.636932</td>\n",
       "      <td>0.476923</td>\n",
       "      <td>0.630260</td>\n",
       "      <td>0.421398</td>\n",
       "      <td>0.568710</td>\n",
       "      <td>0.177196</td>\n",
       "      <td>0.286882</td>\n",
       "      <td>0.724369</td>\n",
       "      <td>0.514688</td>\n",
       "      <td>0</td>\n",
       "      <td>0.349379</td>\n",
       "      <td>0.343805</td>\n",
       "    </tr>\n",
       "    <tr>\n",
       "      <th>2</th>\n",
       "      <td>0.453264</td>\n",
       "      <td>0.636932</td>\n",
       "      <td>0.486162</td>\n",
       "      <td>0.508465</td>\n",
       "      <td>0.509683</td>\n",
       "      <td>0.491617</td>\n",
       "      <td>0.177196</td>\n",
       "      <td>0.286882</td>\n",
       "      <td>0.724369</td>\n",
       "      <td>0.514688</td>\n",
       "      <td>0</td>\n",
       "      <td>0.349379</td>\n",
       "      <td>0.512007</td>\n",
       "    </tr>\n",
       "    <tr>\n",
       "      <th>3</th>\n",
       "      <td>0.452498</td>\n",
       "      <td>0.553147</td>\n",
       "      <td>0.482923</td>\n",
       "      <td>0.508465</td>\n",
       "      <td>0.509683</td>\n",
       "      <td>0.491617</td>\n",
       "      <td>0.177196</td>\n",
       "      <td>0.286882</td>\n",
       "      <td>0.724369</td>\n",
       "      <td>0.514688</td>\n",
       "      <td>0</td>\n",
       "      <td>0.349379</td>\n",
       "      <td>0.562467</td>\n",
       "    </tr>\n",
       "    <tr>\n",
       "      <th>4</th>\n",
       "      <td>0.408049</td>\n",
       "      <td>0.301792</td>\n",
       "      <td>0.521139</td>\n",
       "      <td>0.508465</td>\n",
       "      <td>0.509683</td>\n",
       "      <td>0.491617</td>\n",
       "      <td>0.177196</td>\n",
       "      <td>0.286882</td>\n",
       "      <td>0.724369</td>\n",
       "      <td>0.514688</td>\n",
       "      <td>0</td>\n",
       "      <td>0.349379</td>\n",
       "      <td>0.730669</td>\n",
       "    </tr>\n",
       "    <tr>\n",
       "      <th>5</th>\n",
       "      <td>0.406224</td>\n",
       "      <td>0.273863</td>\n",
       "      <td>0.344957</td>\n",
       "      <td>0.508465</td>\n",
       "      <td>0.509683</td>\n",
       "      <td>0.491617</td>\n",
       "      <td>0.321054</td>\n",
       "      <td>0.609464</td>\n",
       "      <td>0.223563</td>\n",
       "      <td>0.165674</td>\n",
       "      <td>0</td>\n",
       "      <td>0.507178</td>\n",
       "      <td>0.343805</td>\n",
       "    </tr>\n",
       "    <tr>\n",
       "      <th>6</th>\n",
       "      <td>0.629378</td>\n",
       "      <td>0.357648</td>\n",
       "      <td>0.574253</td>\n",
       "      <td>0.630260</td>\n",
       "      <td>0.421398</td>\n",
       "      <td>0.568710</td>\n",
       "      <td>0.321054</td>\n",
       "      <td>0.609464</td>\n",
       "      <td>0.223563</td>\n",
       "      <td>0.165674</td>\n",
       "      <td>0</td>\n",
       "      <td>0.507178</td>\n",
       "      <td>0.512007</td>\n",
       "    </tr>\n",
       "    <tr>\n",
       "      <th>7</th>\n",
       "      <td>0.623846</td>\n",
       "      <td>0.832430</td>\n",
       "      <td>0.918845</td>\n",
       "      <td>0.630260</td>\n",
       "      <td>0.421398</td>\n",
       "      <td>0.568710</td>\n",
       "      <td>0.854174</td>\n",
       "      <td>0.803013</td>\n",
       "      <td>0.307031</td>\n",
       "      <td>0.793899</td>\n",
       "      <td>0</td>\n",
       "      <td>0.507178</td>\n",
       "      <td>0.562467</td>\n",
       "    </tr>\n",
       "    <tr>\n",
       "      <th>8</th>\n",
       "      <td>0.486516</td>\n",
       "      <td>1.000000</td>\n",
       "      <td>0.602753</td>\n",
       "      <td>0.630260</td>\n",
       "      <td>0.421398</td>\n",
       "      <td>0.568710</td>\n",
       "      <td>0.854174</td>\n",
       "      <td>0.803013</td>\n",
       "      <td>0.307031</td>\n",
       "      <td>0.793899</td>\n",
       "      <td>0</td>\n",
       "      <td>0.507178</td>\n",
       "      <td>0.730669</td>\n",
       "    </tr>\n",
       "    <tr>\n",
       "      <th>9</th>\n",
       "      <td>0.190296</td>\n",
       "      <td>0.413505</td>\n",
       "      <td>0.534094</td>\n",
       "      <td>0.630260</td>\n",
       "      <td>0.421398</td>\n",
       "      <td>0.568710</td>\n",
       "      <td>0.397214</td>\n",
       "      <td>0.501937</td>\n",
       "      <td>0.497152</td>\n",
       "      <td>0.514688</td>\n",
       "      <td>0</td>\n",
       "      <td>0.664976</td>\n",
       "      <td>0.512007</td>\n",
       "    </tr>\n",
       "  </tbody>\n",
       "</table>\n",
       "</div>"
      ],
      "text/plain": [
       "   Соотношение матрица-наполнитель  Плотность, кг/м3  модуль упругости, ГПа  \\\n",
       "0                         0.248345          0.636932               0.476923   \n",
       "1                         0.248345          0.636932               0.476923   \n",
       "2                         0.453264          0.636932               0.486162   \n",
       "3                         0.452498          0.553147               0.482923   \n",
       "4                         0.408049          0.301792               0.521139   \n",
       "5                         0.406224          0.273863               0.344957   \n",
       "6                         0.629378          0.357648               0.574253   \n",
       "7                         0.623846          0.832430               0.918845   \n",
       "8                         0.486516          1.000000               0.602753   \n",
       "9                         0.190296          0.413505               0.534094   \n",
       "\n",
       "   Количество отвердителя, м.%  Содержание эпоксидных групп,%_2  \\\n",
       "0                     0.068893                         0.638238   \n",
       "1                     0.630260                         0.421398   \n",
       "2                     0.508465                         0.509683   \n",
       "3                     0.508465                         0.509683   \n",
       "4                     0.508465                         0.509683   \n",
       "5                     0.508465                         0.509683   \n",
       "6                     0.630260                         0.421398   \n",
       "7                     0.630260                         0.421398   \n",
       "8                     0.630260                         0.421398   \n",
       "9                     0.630260                         0.421398   \n",
       "\n",
       "   Температура вспышки, С_2  Поверхностная плотность, г/м2  \\\n",
       "0                  0.491617                       0.177196   \n",
       "1                  0.568710                       0.177196   \n",
       "2                  0.491617                       0.177196   \n",
       "3                  0.491617                       0.177196   \n",
       "4                  0.491617                       0.177196   \n",
       "5                  0.491617                       0.321054   \n",
       "6                  0.568710                       0.321054   \n",
       "7                  0.568710                       0.854174   \n",
       "8                  0.568710                       0.854174   \n",
       "9                  0.568710                       0.397214   \n",
       "\n",
       "   Модуль упругости при растяжении, ГПа  Прочность при растяжении, МПа  \\\n",
       "0                              0.286882                       0.724369   \n",
       "1                              0.286882                       0.724369   \n",
       "2                              0.286882                       0.724369   \n",
       "3                              0.286882                       0.724369   \n",
       "4                              0.286882                       0.724369   \n",
       "5                              0.609464                       0.223563   \n",
       "6                              0.609464                       0.223563   \n",
       "7                              0.803013                       0.307031   \n",
       "8                              0.803013                       0.307031   \n",
       "9                              0.501937                       0.497152   \n",
       "\n",
       "   Потребление смолы, г/м2  Угол нашивки, град  Шаг нашивки  Плотность нашивки  \n",
       "0                 0.514688                   0     0.270480           0.562467  \n",
       "1                 0.514688                   0     0.349379           0.343805  \n",
       "2                 0.514688                   0     0.349379           0.512007  \n",
       "3                 0.514688                   0     0.349379           0.562467  \n",
       "4                 0.514688                   0     0.349379           0.730669  \n",
       "5                 0.165674                   0     0.507178           0.343805  \n",
       "6                 0.165674                   0     0.507178           0.512007  \n",
       "7                 0.793899                   0     0.507178           0.562467  \n",
       "8                 0.793899                   0     0.507178           0.730669  \n",
       "9                 0.514688                   0     0.664976           0.512007  "
      ]
     },
     "execution_count": 35,
     "metadata": {},
     "output_type": "execute_result"
    }
   ],
   "source": [
    "#Загрузка нормализованного датасета\n",
    "dataset_norm=pd.read_excel('General_norm.xlsx')\n",
    "dataset_norm.drop(['Unnamed: 0'],axis=1,inplace=True)\n",
    "dataset_norm.head(10)"
   ]
  },
  {
   "cell_type": "code",
   "execution_count": 36,
   "metadata": {
    "executionInfo": {
     "elapsed": 12,
     "status": "ok",
     "timestamp": 1664973241470,
     "user": {
      "displayName": "Дмитрий К.",
      "userId": "00574909770528582988"
     },
     "user_tz": -180
    },
    "id": "G1o-oADhiQdi"
   },
   "outputs": [],
   "source": [
    "# Разбиваем выборки на обучающую и тестовую\n",
    "x_train, x_test, y_train, y_test = train_test_split(dataset_norm.loc[:, dataset_norm.columns != 'Соотношение матрица-наполнитель'],\n",
    "                                                    dataset_norm['Соотношение матрица-наполнитель'], \n",
    "                                                    test_size = 0.3, \n",
    "                                                    random_state = 14)"
   ]
  },
  {
   "cell_type": "code",
   "execution_count": 37,
   "metadata": {
    "colab": {
     "base_uri": "https://localhost:8080/"
    },
    "executionInfo": {
     "elapsed": 11,
     "status": "ok",
     "timestamp": 1664973241470,
     "user": {
      "displayName": "Дмитрий К.",
      "userId": "00574909770528582988"
     },
     "user_tz": -180
    },
    "id": "ZPwL8DK14Qjs",
    "outputId": "ae1cdd29-7453-4f96-e338-0007a4870bdd"
   },
   "outputs": [
    {
     "data": {
      "text/plain": [
       "(620, 12)"
      ]
     },
     "execution_count": 37,
     "metadata": {},
     "output_type": "execute_result"
    }
   ],
   "source": [
    "x_train.shape"
   ]
  },
  {
   "cell_type": "code",
   "execution_count": 38,
   "metadata": {
    "colab": {
     "base_uri": "https://localhost:8080/"
    },
    "executionInfo": {
     "elapsed": 10,
     "status": "ok",
     "timestamp": 1664973241470,
     "user": {
      "displayName": "Дмитрий К.",
      "userId": "00574909770528582988"
     },
     "user_tz": -180
    },
    "id": "zzPLQ_6v4Z8i",
    "outputId": "48decf44-aecf-4df8-e478-f3c69913c29c"
   },
   "outputs": [
    {
     "data": {
      "text/plain": [
       "163    0.641626\n",
       "767    0.698197\n",
       "103    0.329203\n",
       "689    0.723380\n",
       "270    0.573485\n",
       "         ...   \n",
       "327    0.303672\n",
       "406    0.375587\n",
       "268    0.632914\n",
       "344    0.630833\n",
       "619    0.282746\n",
       "Name: Соотношение матрица-наполнитель, Length: 620, dtype: float64"
      ]
     },
     "execution_count": 38,
     "metadata": {},
     "output_type": "execute_result"
    }
   ],
   "source": [
    "y_train"
   ]
  },
  {
   "cell_type": "code",
   "execution_count": 39,
   "metadata": {
    "colab": {
     "base_uri": "https://localhost:8080/"
    },
    "executionInfo": {
     "elapsed": 8,
     "status": "ok",
     "timestamp": 1664973241470,
     "user": {
      "displayName": "Дмитрий К.",
      "userId": "00574909770528582988"
     },
     "user_tz": -180
    },
    "id": "dYnn1Jd-4fnc",
    "outputId": "7d3bf887-1ca3-46be-e6b1-dd812988262b"
   },
   "outputs": [
    {
     "data": {
      "text/plain": [
       "(266, 12)"
      ]
     },
     "execution_count": 39,
     "metadata": {},
     "output_type": "execute_result"
    }
   ],
   "source": [
    "x_test.shape"
   ]
  },
  {
   "cell_type": "code",
   "execution_count": 40,
   "metadata": {
    "colab": {
     "base_uri": "https://localhost:8080/"
    },
    "executionInfo": {
     "elapsed": 7,
     "status": "ok",
     "timestamp": 1664973241470,
     "user": {
      "displayName": "Дмитрий К.",
      "userId": "00574909770528582988"
     },
     "user_tz": -180
    },
    "id": "ZTRtZyNn4kWL",
    "outputId": "706e44e6-d477-4da8-8047-e79ce181d355"
   },
   "outputs": [
    {
     "data": {
      "text/plain": [
       "522    0.438682\n",
       "776    0.885481\n",
       "117    0.577266\n",
       "281    0.630380\n",
       "468    0.410162\n",
       "         ...   \n",
       "273    0.330429\n",
       "64     0.401156\n",
       "680    0.571557\n",
       "658    0.841668\n",
       "72     0.664045\n",
       "Name: Соотношение матрица-наполнитель, Length: 266, dtype: float64"
      ]
     },
     "execution_count": 40,
     "metadata": {},
     "output_type": "execute_result"
    }
   ],
   "source": [
    "y_test"
   ]
  },
  {
   "cell_type": "code",
   "execution_count": 43,
   "metadata": {
    "colab": {
     "base_uri": "https://localhost:8080/"
    },
    "executionInfo": {
     "elapsed": 3298,
     "status": "ok",
     "timestamp": 1664977500875,
     "user": {
      "displayName": "Дмитрий К.",
      "userId": "00574909770528582988"
     },
     "user_tz": -180
    },
    "id": "EWVSsBqEp4Kf",
    "outputId": "4eb7d266-08a2-4597-b164-b05b5fc83947"
   },
   "outputs": [
    {
     "name": "stdout",
     "output_type": "stream",
     "text": [
      "Epoch 1/50\n",
      "5/5 [==============================] - 1s 2ms/step - loss: 0.3022 - accuracy: 0.0016\n",
      "Epoch 2/50\n",
      "5/5 [==============================] - 0s 2ms/step - loss: 0.3022 - accuracy: 0.0016\n",
      "Epoch 3/50\n",
      "5/5 [==============================] - 0s 2ms/step - loss: 0.3022 - accuracy: 0.0016\n",
      "Epoch 4/50\n",
      "5/5 [==============================] - 0s 3ms/step - loss: 0.3022 - accuracy: 0.0016\n",
      "Epoch 5/50\n",
      "5/5 [==============================] - 0s 2ms/step - loss: 0.3022 - accuracy: 0.0016\n",
      "Epoch 6/50\n",
      "5/5 [==============================] - 0s 2ms/step - loss: 0.3022 - accuracy: 0.0016\n",
      "Epoch 7/50\n",
      "5/5 [==============================] - 0s 2ms/step - loss: 0.3022 - accuracy: 0.0016\n",
      "Epoch 8/50\n",
      "5/5 [==============================] - 0s 2ms/step - loss: 0.3022 - accuracy: 0.0016\n",
      "Epoch 9/50\n",
      "5/5 [==============================] - 0s 2ms/step - loss: 0.3022 - accuracy: 0.0016\n",
      "Epoch 10/50\n",
      "5/5 [==============================] - 0s 2ms/step - loss: 0.3022 - accuracy: 0.0016\n",
      "Epoch 11/50\n",
      "5/5 [==============================] - 0s 2ms/step - loss: 0.3022 - accuracy: 0.0016\n",
      "Epoch 12/50\n",
      "5/5 [==============================] - 0s 2ms/step - loss: 0.3022 - accuracy: 0.0016\n",
      "Epoch 13/50\n",
      "5/5 [==============================] - 0s 2ms/step - loss: 0.3022 - accuracy: 0.0016\n",
      "Epoch 14/50\n",
      "5/5 [==============================] - 0s 3ms/step - loss: 0.3022 - accuracy: 0.0016\n",
      "Epoch 15/50\n",
      "5/5 [==============================] - 0s 3ms/step - loss: 0.3022 - accuracy: 0.0016\n",
      "Epoch 16/50\n",
      "5/5 [==============================] - 0s 2ms/step - loss: 0.3022 - accuracy: 0.0016\n",
      "Epoch 17/50\n",
      "5/5 [==============================] - 0s 3ms/step - loss: 0.3022 - accuracy: 0.0016\n",
      "Epoch 18/50\n",
      "5/5 [==============================] - 0s 2ms/step - loss: 0.3022 - accuracy: 0.0016\n",
      "Epoch 19/50\n",
      "5/5 [==============================] - 0s 2ms/step - loss: 0.3022 - accuracy: 0.0016\n",
      "Epoch 20/50\n",
      "5/5 [==============================] - 0s 3ms/step - loss: 0.3022 - accuracy: 0.0016\n",
      "Epoch 21/50\n",
      "5/5 [==============================] - 0s 2ms/step - loss: 0.3022 - accuracy: 0.0016\n",
      "Epoch 22/50\n",
      "5/5 [==============================] - 0s 3ms/step - loss: 0.3022 - accuracy: 0.0016\n",
      "Epoch 23/50\n",
      "5/5 [==============================] - 0s 2ms/step - loss: 0.3022 - accuracy: 0.0016\n",
      "Epoch 24/50\n",
      "5/5 [==============================] - 0s 3ms/step - loss: 0.3022 - accuracy: 0.0016\n",
      "Epoch 25/50\n",
      "5/5 [==============================] - 0s 2ms/step - loss: 0.3022 - accuracy: 0.0016\n",
      "Epoch 26/50\n",
      "5/5 [==============================] - 0s 2ms/step - loss: 0.3022 - accuracy: 0.0016\n",
      "Epoch 27/50\n",
      "5/5 [==============================] - 0s 3ms/step - loss: 0.3022 - accuracy: 0.0016\n",
      "Epoch 28/50\n",
      "5/5 [==============================] - 0s 2ms/step - loss: 0.3022 - accuracy: 0.0016\n",
      "Epoch 29/50\n",
      "5/5 [==============================] - 0s 2ms/step - loss: 0.3022 - accuracy: 0.0016\n",
      "Epoch 30/50\n",
      "5/5 [==============================] - 0s 2ms/step - loss: 0.3022 - accuracy: 0.0016\n",
      "Epoch 31/50\n",
      "5/5 [==============================] - 0s 3ms/step - loss: 0.3022 - accuracy: 0.0016\n",
      "Epoch 32/50\n",
      "5/5 [==============================] - 0s 3ms/step - loss: 0.3022 - accuracy: 0.0016\n",
      "Epoch 33/50\n",
      "5/5 [==============================] - 0s 2ms/step - loss: 0.3022 - accuracy: 0.0016\n",
      "Epoch 34/50\n",
      "5/5 [==============================] - 0s 2ms/step - loss: 0.3022 - accuracy: 0.0016\n",
      "Epoch 35/50\n",
      "5/5 [==============================] - 0s 2ms/step - loss: 0.3022 - accuracy: 0.0016\n",
      "Epoch 36/50\n",
      "5/5 [==============================] - 0s 2ms/step - loss: 0.3022 - accuracy: 0.0016\n",
      "Epoch 37/50\n",
      "5/5 [==============================] - 0s 3ms/step - loss: 0.3022 - accuracy: 0.0016\n",
      "Epoch 38/50\n",
      "5/5 [==============================] - 0s 3ms/step - loss: 0.3022 - accuracy: 0.0016\n",
      "Epoch 39/50\n",
      "5/5 [==============================] - 0s 2ms/step - loss: 0.3022 - accuracy: 0.0016\n",
      "Epoch 40/50\n",
      "5/5 [==============================] - 0s 2ms/step - loss: 0.3022 - accuracy: 0.0016\n",
      "Epoch 41/50\n",
      "5/5 [==============================] - 0s 2ms/step - loss: 0.3022 - accuracy: 0.0016\n",
      "Epoch 42/50\n",
      "5/5 [==============================] - 0s 3ms/step - loss: 0.3022 - accuracy: 0.0016\n",
      "Epoch 43/50\n",
      "5/5 [==============================] - 0s 2ms/step - loss: 0.3022 - accuracy: 0.0016\n",
      "Epoch 44/50\n",
      "5/5 [==============================] - 0s 3ms/step - loss: 0.3022 - accuracy: 0.0016\n",
      "Epoch 45/50\n",
      "5/5 [==============================] - 0s 2ms/step - loss: 0.3022 - accuracy: 0.0016\n",
      "Epoch 46/50\n",
      "5/5 [==============================] - 0s 3ms/step - loss: 0.3022 - accuracy: 0.0016\n",
      "Epoch 47/50\n",
      "5/5 [==============================] - 0s 2ms/step - loss: 0.3022 - accuracy: 0.0016\n",
      "Epoch 48/50\n",
      "5/5 [==============================] - 0s 2ms/step - loss: 0.3022 - accuracy: 0.0016\n",
      "Epoch 49/50\n",
      "5/5 [==============================] - 0s 2ms/step - loss: 0.3022 - accuracy: 0.0016\n",
      "Epoch 50/50\n",
      "5/5 [==============================] - 0s 3ms/step - loss: 0.3022 - accuracy: 0.0016\n"
     ]
    }
   ],
   "source": [
    "# построение нейронной сети\n",
    "model = Sequential() # тип нейронной сети\n",
    "# количество слоёв и нейронов в каждом слое, функции активации\n",
    "model.add(Dense(units=128, input_dim=12, activation='relu'))#указана размерность данных для первого слоя\n",
    "model.add(Dense(units=128, activation='relu'))\n",
    "model.add(Dense(units=128, activation='relu'))\n",
    "model.add(Dense(units=128, activation='relu'))\n",
    "model.add(Dense(units=32, activation='relu'))\n",
    "model.add(Dense(units=1, activation='softmax'))\n",
    "#компиляция нейронной сети\n",
    "model.compile(optimizer='Adam',loss='mean_squared_error',metrics=['accuracy'])\n",
    "#обучение нейронной сети\n",
    "trayning_NN=model.fit(x_train,y_train,batch_size=128, epochs=50, verbose=1)\n"
   ]
  },
  {
   "cell_type": "code",
   "execution_count": 44,
   "metadata": {
    "colab": {
     "base_uri": "https://localhost:8080/"
    },
    "executionInfo": {
     "elapsed": 266,
     "status": "ok",
     "timestamp": 1664977610794,
     "user": {
      "displayName": "Дмитрий К.",
      "userId": "00574909770528582988"
     },
     "user_tz": -180
    },
    "id": "-TNcQwBvFtNt",
    "outputId": "0bec83b5-f469-47f1-a0b5-af5cda0facf1"
   },
   "outputs": [
    {
     "data": {
      "text/plain": [
       "{'loss': [0.3021954298019409,\n",
       "  0.3021954298019409,\n",
       "  0.3021954298019409,\n",
       "  0.3021954298019409,\n",
       "  0.3021954298019409,\n",
       "  0.3021954298019409,\n",
       "  0.3021954298019409,\n",
       "  0.3021954298019409,\n",
       "  0.3021954298019409,\n",
       "  0.3021954298019409,\n",
       "  0.3021954298019409,\n",
       "  0.3021954298019409,\n",
       "  0.3021954298019409,\n",
       "  0.3021954298019409,\n",
       "  0.3021954298019409,\n",
       "  0.30219539999961853,\n",
       "  0.3021954298019409,\n",
       "  0.3021954298019409,\n",
       "  0.3021954298019409,\n",
       "  0.3021954298019409,\n",
       "  0.30219539999961853,\n",
       "  0.3021954298019409,\n",
       "  0.3021954298019409,\n",
       "  0.3021954298019409,\n",
       "  0.3021954298019409,\n",
       "  0.3021954298019409,\n",
       "  0.3021954298019409,\n",
       "  0.3021954298019409,\n",
       "  0.30219539999961853,\n",
       "  0.3021954298019409,\n",
       "  0.3021954298019409,\n",
       "  0.3021954298019409,\n",
       "  0.3021954298019409,\n",
       "  0.3021954298019409,\n",
       "  0.3021954298019409,\n",
       "  0.3021954298019409,\n",
       "  0.30219539999961853,\n",
       "  0.3021954298019409,\n",
       "  0.3021954298019409,\n",
       "  0.30219539999961853,\n",
       "  0.3021954298019409,\n",
       "  0.3021954298019409,\n",
       "  0.3021954298019409,\n",
       "  0.3021954298019409,\n",
       "  0.3021954298019409,\n",
       "  0.30219539999961853,\n",
       "  0.30219539999961853,\n",
       "  0.30219539999961853,\n",
       "  0.30219539999961853,\n",
       "  0.3021954298019409],\n",
       " 'accuracy': [0.001612903201021254,\n",
       "  0.001612903201021254,\n",
       "  0.001612903201021254,\n",
       "  0.001612903201021254,\n",
       "  0.001612903201021254,\n",
       "  0.001612903201021254,\n",
       "  0.001612903201021254,\n",
       "  0.001612903201021254,\n",
       "  0.001612903201021254,\n",
       "  0.001612903201021254,\n",
       "  0.001612903201021254,\n",
       "  0.001612903201021254,\n",
       "  0.001612903201021254,\n",
       "  0.001612903201021254,\n",
       "  0.001612903201021254,\n",
       "  0.001612903201021254,\n",
       "  0.001612903201021254,\n",
       "  0.001612903201021254,\n",
       "  0.001612903201021254,\n",
       "  0.001612903201021254,\n",
       "  0.001612903201021254,\n",
       "  0.001612903201021254,\n",
       "  0.001612903201021254,\n",
       "  0.001612903201021254,\n",
       "  0.001612903201021254,\n",
       "  0.001612903201021254,\n",
       "  0.001612903201021254,\n",
       "  0.001612903201021254,\n",
       "  0.001612903201021254,\n",
       "  0.001612903201021254,\n",
       "  0.001612903201021254,\n",
       "  0.001612903201021254,\n",
       "  0.001612903201021254,\n",
       "  0.001612903201021254,\n",
       "  0.001612903201021254,\n",
       "  0.001612903201021254,\n",
       "  0.001612903201021254,\n",
       "  0.001612903201021254,\n",
       "  0.001612903201021254,\n",
       "  0.001612903201021254,\n",
       "  0.001612903201021254,\n",
       "  0.001612903201021254,\n",
       "  0.001612903201021254,\n",
       "  0.001612903201021254,\n",
       "  0.001612903201021254,\n",
       "  0.001612903201021254,\n",
       "  0.001612903201021254,\n",
       "  0.001612903201021254,\n",
       "  0.001612903201021254,\n",
       "  0.001612903201021254]}"
      ]
     },
     "execution_count": 44,
     "metadata": {},
     "output_type": "execute_result"
    }
   ],
   "source": [
    "# статистика обучения для построения графика\n",
    "trayning_NN.history"
   ]
  },
  {
   "cell_type": "code",
   "execution_count": 45,
   "metadata": {
    "colab": {
     "base_uri": "https://localhost:8080/"
    },
    "executionInfo": {
     "elapsed": 238,
     "status": "ok",
     "timestamp": 1664977618275,
     "user": {
      "displayName": "Дмитрий К.",
      "userId": "00574909770528582988"
     },
     "user_tz": -180
    },
    "id": "DWpJ2xpe-cGH",
    "outputId": "4ae4d0a8-aea6-44de-80ab-b35d4342995d"
   },
   "outputs": [
    {
     "name": "stdout",
     "output_type": "stream",
     "text": [
      "Model: \"sequential_4\"\n",
      "_________________________________________________________________\n",
      " Layer (type)                Output Shape              Param #   \n",
      "=================================================================\n",
      " dense_24 (Dense)            (None, 128)               1664      \n",
      "                                                                 \n",
      " dense_25 (Dense)            (None, 128)               16512     \n",
      "                                                                 \n",
      " dense_26 (Dense)            (None, 128)               16512     \n",
      "                                                                 \n",
      " dense_27 (Dense)            (None, 128)               16512     \n",
      "                                                                 \n",
      " dense_28 (Dense)            (None, 32)                4128      \n",
      "                                                                 \n",
      " dense_29 (Dense)            (None, 1)                 33        \n",
      "                                                                 \n",
      "=================================================================\n",
      "Total params: 55,361\n",
      "Trainable params: 55,361\n",
      "Non-trainable params: 0\n",
      "_________________________________________________________________\n"
     ]
    }
   ],
   "source": [
    "#архитектура нейронной сети\n",
    "model.summary()"
   ]
  },
  {
   "cell_type": "code",
   "execution_count": 46,
   "metadata": {
    "colab": {
     "base_uri": "https://localhost:8080/"
    },
    "executionInfo": {
     "elapsed": 370,
     "status": "ok",
     "timestamp": 1664977725463,
     "user": {
      "displayName": "Дмитрий К.",
      "userId": "00574909770528582988"
     },
     "user_tz": -180
    },
    "id": "FnRZS-di9_ao",
    "outputId": "d048ff05-88c2-4d68-9d90-c257d5f9b5ef"
   },
   "outputs": [
    {
     "name": "stdout",
     "output_type": "stream",
     "text": [
      "3/3 [==============================] - 0s 2ms/step - loss: 0.2945 - accuracy: 0.0000e+00\n"
     ]
    }
   ],
   "source": [
    "#тестирование нейронной сети\n",
    "test_NN=model.evaluate(x_test, y_test, batch_size=128)\n"
   ]
  },
  {
   "cell_type": "code",
   "execution_count": 47,
   "metadata": {
    "colab": {
     "base_uri": "https://localhost:8080/",
     "height": 300
    },
    "executionInfo": {
     "elapsed": 969,
     "status": "ok",
     "timestamp": 1664978282260,
     "user": {
      "displayName": "Дмитрий К.",
      "userId": "00574909770528582988"
     },
     "user_tz": -180
    },
    "id": "LPHyIsDA9YwW",
    "outputId": "6113535a-d362-497c-e471-e1bacd9d1569"
   },
   "outputs": [
    {
     "name": "stdout",
     "output_type": "stream",
     "text": [
      "3/3 [==============================] - 0s 2ms/step\n"
     ]
    },
    {
     "data": {
      "text/plain": [
       "(0.0, 2.0)"
      ]
     },
     "execution_count": 47,
     "metadata": {},
     "output_type": "execute_result"
    },
    {
     "data": {
      "image/png": "[encoded data removed]",
      "text/plain": [
       "<Figure size 432x288 with 1 Axes>"
      ]
     },
     "metadata": {
      "needs_background": "light"
     },
     "output_type": "display_data"
    }
   ],
   "source": [
    "#тестирование нейронной сети с помощью предиктора\n",
    "test_NN_prediction=model.predict(x_test,batch_size=128).flatten()\n",
    "\n",
    "a = plt.axes(aspect = 'equal')\n",
    "plt.scatter(y_test,test_NN_prediction)\n",
    "plt.xlabel('True Values')\n",
    "plt.ylabel('Predictions')\n",
    "lims = [0, 2]\n",
    "plt.xlim(lims)\n",
    "plt.ylim(lims)"
   ]
  },
  {
   "cell_type": "code",
   "execution_count": 48,
   "metadata": {
    "colab": {
     "base_uri": "https://localhost:8080/",
     "height": 350
    },
    "executionInfo": {
     "elapsed": 409,
     "status": "ok",
     "timestamp": 1664974257853,
     "user": {
      "displayName": "Дмитрий К.",
      "userId": "00574909770528582988"
     },
     "user_tz": -180
    },
    "id": "y6WxfZAOD3-d",
    "outputId": "adecf9f6-03eb-4b85-a5de-00202bb90afc"
   },
   "outputs": [
    {
     "data": {
      "image/png": "[encoded data removed]",
      "text/plain": [
       "<Figure size 1224x360 with 1 Axes>"
      ]
     },
     "metadata": {
      "needs_background": "light"
     },
     "output_type": "display_data"
    }
   ],
   "source": [
    "# Посмотрим на график потерь на тренировочной и тестовой выборках\n",
    "plt.figure(figsize = (17,5))\n",
    "plt.plot(trayning_NN.history['loss'],\n",
    "label = 'ошибка на обучающей выборке')\n",
    "plt.title('График потерь модели')\n",
    "plt.ylabel('Значение ошибки')\n",
    "plt.xlabel('Эпохи')\n",
    "plt.legend(['Oшибка на обучающей выборке', 'Ошибка на тестовой выборке'], loc='best')\n",
    "plt.show()"
   ]
  },
  {
   "cell_type": "code",
   "execution_count": null,
   "metadata": {},
   "outputs": [],
   "source": []
  }
 ],
 "metadata": {
  "colab": {
   "collapsed_sections": [],
   "provenance": []
  },
  "kernelspec": {
   "display_name": "Python 3 (ipykernel)",
   "language": "python",
   "name": "python3"
  },
  "language_info": {
   "codemirror_mode": {
    "name": "ipython",
    "version": 3
   },
   "file_extension": ".py",
   "mimetype": "text/x-python",
   "name": "python",
   "nbconvert_exporter": "python",
   "pygments_lexer": "ipython3",
   "version": "3.9.12"
  }
 },
 "nbformat": 4,
 "nbformat_minor": 1
}
