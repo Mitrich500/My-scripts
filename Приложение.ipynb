{
 "cells": [
  {
   "cell_type": "code",
   "execution_count": 1,
   "id": "988261cd",
   "metadata": {},
   "outputs": [],
   "source": [
    "import flask\n",
    "from flask import Flask\n",
    "from flask import render_template\n",
    "import pickle\n",
    "import numpy as np\n",
    "import tensorflow as tf\n",
    "from tensorflow import keras as keras\n",
    "from tensorflow.keras import layers\n",
    "from tensorflow.keras.layers import Dense, Flatten, Dropout, BatchNormalization, Activation\n",
    "from pandas import read_excel, DataFrame, Series\n",
    "from keras.wrappers.scikit_learn import KerasClassifier, KerasRegressor\n",
    "from tensorflow.keras.models import Sequential"
   ]
  },
  {
   "cell_type": "code",
   "execution_count": null,
   "id": "53a89663",
   "metadata": {},
   "outputs": [],
   "source": [
    "app = flask.Flask(__name__, template_folder='templates')\n",
    "\n",
    "@app.route('/', methods=['GET', 'POST'])\n",
    "@app.route('/index', methods=['GET', 'POST'])\n",
    "def main():\n",
    "    if flask.request.method == 'GET':\n",
    "        return render_template('index2.html' )\n",
    "        \n",
    "    if flask.request.method == 'POST':\n",
    "        temp = 1\n",
    "        with open('nn_model.pkl', 'rb') as fh:\n",
    "            loaded_model = pickle.load(fh)\n",
    "\n",
    "        p1 = float(flask.request.form['Плотность, кг/м3'])\n",
    "        p2 = float(flask.request.form['Модуль упругости, ГПа'])\n",
    "        p3 = float(flask.request.form['Количество отвердителя, м.%'])\n",
    "        P4 = float(flask.request.form['Содержание эпоксидных групп,%_2'])\n",
    "        p5 = float(flask.request.form['Температура вспышки, С_2'])\n",
    "        p6 = float(flask.request.form['Поверхностная плотность, г/м2'])\n",
    "        p7 = float(flask.request.form['Модуль упругости при растяжении, ГПа'])\n",
    "        p8 = float(flask.request.form['Прочность при растяжении, МПа'])\n",
    "        p9 = float(flask.request.form['Потребление смолы, г/м2'])\n",
    "        p10 = float(flask.request.form['Угол нашивки, град'])\n",
    "        p11 = float(flask.request.form['Шаг нашивки'])\n",
    "        p12 = float(flask.request.form['Плотность нашивки'])\n",
    "                \n",
    "        temp = loaded_model.predict([[p1,p2,p3,p4,p5,p6,p7,p8,p9,p10,p11,p12]])\n",
    "        return render_template('index2.html', result = temp) "
   ]
  },
  {
   "cell_type": "code",
   "execution_count": null,
   "id": "7dbeeed5",
   "metadata": {},
   "outputs": [
    {
     "name": "stdout",
     "output_type": "stream",
     "text": [
      " * Serving Flask app \"__main__\" (lazy loading)\n",
      " * Environment: production\n",
      "\u001b[31m   WARNING: This is a development server. Do not use it in a production deployment.\u001b[0m\n",
      "\u001b[2m   Use a production WSGI server instead.\u001b[0m\n",
      " * Debug mode: off\n"
     ]
    },
    {
     "name": "stderr",
     "output_type": "stream",
     "text": [
      " * Running on http://127.0.0.1:5000/ (Press CTRL+C to quit)\n",
      "127.0.0.1 - - [09/Nov/2022 20:40:09] \"GET / HTTP/1.1\" 200 -\n"
     ]
    }
   ],
   "source": [
    "  if __name__ == '__main__':\n",
    "    app.run()"
   ]
  },
  {
   "cell_type": "code",
   "execution_count": null,
   "id": "67263500",
   "metadata": {},
   "outputs": [],
   "source": []
  },
  {
   "cell_type": "code",
   "execution_count": null,
   "id": "86108acf",
   "metadata": {},
   "outputs": [],
   "source": []
  }
 ],
 "metadata": {
  "kernelspec": {
   "display_name": "Python 3 (ipykernel)",
   "language": "python",
   "name": "python3"
  },
  "language_info": {
   "codemirror_mode": {
    "name": "ipython",
    "version": 3
   },
   "file_extension": ".py",
   "mimetype": "text/x-python",
   "name": "python",
   "nbconvert_exporter": "python",
   "pygments_lexer": "ipython3",
   "version": "3.9.12"
  }
 },
 "nbformat": 4,
 "nbformat_minor": 5
}
